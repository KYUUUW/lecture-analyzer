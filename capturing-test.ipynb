{
 "cells": [
  {
   "cell_type": "code",
   "execution_count": 4,
   "metadata": {
    "pycharm": {
     "name": "#%%\n"
    }
   },
   "outputs": [
    {
     "name": "stderr",
     "output_type": "stream",
     "text": [
      "100%|██████████| 5898/5898 [00:12<00:00, 461.14frames/s]\n"
     ]
    }
   ],
   "source": [
    "!pip install scenedetect"
   ]
  },
  {
   "cell_type": "code",
   "execution_count": null,
   "outputs": [],
   "source": [
    "# Standard PySceneDetect imports:\n",
    "from scenedetect import VideoManager\n",
    "from scenedetect import SceneManager\n",
    "from scenedetect import FrameTimecode\n",
    "\n",
    "# For content-aware scene detection:\n",
    "from scenedetect.detectors import ContentDetector\n",
    "\n",
    "def find_scenes(video_path, threshold=4.0):\n",
    "    # Create our video & scene managers, then add the detector.\n",
    "    video_manager = VideoManager([video_path])\n",
    "    scene_manager = SceneManager()\n",
    "    scene_manager.add_detector(\n",
    "        ContentDetector(threshold=threshold))\n",
    "\n",
    "    # Improve proces\n",
    "    # sing speed by downscaling before processing.\n",
    "    video_manager.set_duration(start_time=FrameTimecode(500, 15))\n",
    "    video_manager.set_downscale_factor()\n",
    "\n",
    "    # Start the video manager and perform the scene detection.\n",
    "    video_manager.start()\n",
    "    scene_manager.detect_scenes(frame_source=video_manager)\n",
    "\n",
    "\n",
    "    # Each returned scene is a tuple of the (start, end) timecode.\n",
    "    return scene_manager\n",
    "\n",
    "scenes_manager = find_scenes('video.mp4')"
   ],
   "metadata": {
    "collapsed": false,
    "pycharm": {
     "name": "#%%\n"
    }
   }
  },
  {
   "cell_type": "code",
   "execution_count": 11,
   "outputs": [],
   "source": [
    "scenes = scenes_manager.get_scene_list()\n",
    "\n",
    "frames = []\n",
    "for frame in scenes:\n",
    "    frames.append(frame[0].frame_num + 50)\n",
    "\n",
    "# Remove useless last frame\n",
    "frames = frames[0: len(frames)-1]"
   ],
   "metadata": {
    "collapsed": false,
    "pycharm": {
     "name": "#%%\n"
    }
   }
  },
  {
   "cell_type": "code",
   "execution_count": 17,
   "outputs": [
    {
     "name": "stdout",
     "output_type": "stream",
     "text": [
      "Creating..../data/frame550.jpg\n",
      "Creating..../data/frame943.jpg\n",
      "Creating..../data/frame2052.jpg\n",
      "Creating..../data/frame3131.jpg\n",
      "Creating..../data/frame3479.jpg\n",
      "Creating..../data/frame5401.jpg\n"
     ]
    }
   ],
   "source": [
    "# Importing all necessary libraries\n",
    "import cv2\n",
    "import os\n",
    "\n",
    "# Read the video from specified path\n",
    "cam = cv2.VideoCapture(\"data/video.mp4\")\n",
    "\n",
    "try:\n",
    "\n",
    "    # creating a folder named data\n",
    "    if not os.path.exists('data'):\n",
    "        os.makedirs('data')\n",
    "\n",
    "# if not created then raise error\n",
    "except OSError:\n",
    "    print ('Error: Creating directory of data')\n",
    "\n",
    "# frame\n",
    "for currentframe in frames:\n",
    "    # reading from frame\n",
    "    cam.set(cv2.CAP_PROP_POS_FRAMES, currentframe)\n",
    "    ret,frame = cam.read()\n",
    "\n",
    "    if ret:\n",
    "        # if video is still left continue creating images\n",
    "        name = './data/frame' + str(currentframe) + '.jpg'\n",
    "\n",
    "        # writing the extracted images\n",
    "        cv2.imwrite(name, frame)\n",
    "        print ('Creating...' + name)\n",
    "\n",
    "        # increasing counter so that it will\n",
    "        # show how many frames are created\n",
    "    else:\n",
    "        print(f'{currentframe} frame extract fail')\n",
    "\n",
    "# Release all space and windows once done\n",
    "cam.release()\n",
    "cv2.destroyAllWindows()"
   ],
   "metadata": {
    "collapsed": false,
    "pycharm": {
     "name": "#%%\n"
    }
   }
  },
  {
   "cell_type": "code",
   "execution_count": 14,
   "outputs": [
    {
     "name": "stdout",
     "output_type": "stream",
     "text": [
      "Collecting Pillow\r\n",
      "  Downloading Pillow-8.2.0-cp37-cp37m-macosx_10_10_x86_64.whl (2.8 MB)\r\n",
      "\u001B[K     |████████████████████████████████| 2.8 MB 650 kB/s eta 0:00:01\r\n",
      "\u001B[?25hInstalling collected packages: Pillow\r\n",
      "Successfully installed Pillow-8.2.0\r\n"
     ]
    }
   ],
   "source": [
    "!pip install Pillow"
   ],
   "metadata": {
    "collapsed": false,
    "pycharm": {
     "name": "#%%\n"
    }
   }
  },
  {
   "cell_type": "code",
   "execution_count": 22,
   "outputs": [],
   "source": [
    "import os\n",
    "from PIL import Image\n",
    "\n",
    "paths = os.listdir('data')\n",
    "\n",
    "imgs = []\n",
    "for name in paths:\n",
    "    if name.find('.jpg') == -1:\n",
    "        continue\n",
    "\n",
    "    imgs.append(Image.open(f'data/{name}').convert('RGB'))\n",
    "\n",
    "\n",
    "imgs[0].save('data/test.pdf', save_all=True, append_images=imgs)\n"
   ],
   "metadata": {
    "collapsed": false,
    "pycharm": {
     "name": "#%%\n"
    }
   }
  }
 ],
 "metadata": {
  "kernelspec": {
   "name": "python3",
   "language": "python",
   "display_name": "Python 3"
  },
  "language_info": {
   "codemirror_mode": {
    "name": "ipython",
    "version": 3
   },
   "file_extension": ".py",
   "mimetype": "text/x-python",
   "name": "python",
   "nbconvert_exporter": "python",
   "pygments_lexer": "ipython3",
   "version": "3.8.5"
  }
 },
 "nbformat": 4,
 "nbformat_minor": 4
}